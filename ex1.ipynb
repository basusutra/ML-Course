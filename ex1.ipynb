{
 "cells": [
  {
   "cell_type": "code",
   "execution_count": 120,
   "metadata": {
    "collapsed": true
   },
   "outputs": [],
   "source": [
    "%matplotlib inline\n",
    "import numpy as np\n",
    "import pandas as pd\n",
    "import matplotlib.pyplot as plt"
   ]
  },
  {
   "cell_type": "code",
   "execution_count": 121,
   "metadata": {
    "collapsed": false
   },
   "outputs": [],
   "source": [
    "uni_var_data = pd.read_csv(\"D:\\Continuum\\coursera\\ML\\octave matlab\\machine-learning-ex1\\ex1\\ex1data1.txt\", \n",
    "                              sep=\",\", names = [\"Population in 10,000s\", \"Profit in $10,000s\"])\n",
    "# uni_var_data.describe"
   ]
  },
  {
   "cell_type": "code",
   "execution_count": 122,
   "metadata": {
    "collapsed": false
   },
   "outputs": [],
   "source": [
    "# ax1 = uni_var_data.plot.scatter(x='Population in 10,000s',y='Profit in $10,000s',c='Red')\n"
   ]
  },
  {
   "cell_type": "code",
   "execution_count": 123,
   "metadata": {
    "collapsed": false
   },
   "outputs": [
    {
     "data": {
      "text/plain": [
       "<matplotlib.text.Text at 0xaad8770>"
      ]
     },
     "execution_count": 123,
     "metadata": {},
     "output_type": "execute_result"
    },
    {
     "data": {
      "image/png": "[encoded data removed]",
      "text/plain": [
       "<matplotlib.figure.Figure at 0xa49a9b0>"
      ]
     },
     "metadata": {},
     "output_type": "display_data"
    }
   ],
   "source": [
    "uni_var_data_array = uni_var_data.values\n",
    "#print(uni_var_data_array)\n",
    "X = uni_var_data_array[:,0].reshape(m,1)   # features, theta_0 + theta_1*feature_1, as column array\n",
    "y = uni_var_data_array[:,1].reshape(m,1)   # target, as column array\n",
    "m = y.size                       # number of training examples\n",
    "#print(m)    #97\n",
    "plt.scatter(X, y, c='red', marker='x')\n",
    "plt.xlabel(\"Population in 10,000s\")\n",
    "plt.ylabel(\"Profit in $10,000s\");\n",
    "#print(X)"
   ]
  },
  {
   "cell_type": "code",
   "execution_count": 124,
   "metadata": {
    "collapsed": false,
    "scrolled": true
   },
   "outputs": [],
   "source": [
    "z = np.ones(m).reshape(m,1)\n",
    "#print(z)\n",
    "X = np.hstack((z,X)) # add first column of 1s as feature_0 for theta_0, for univariate, there are 1 feature and 1 dummy feature\n",
    "#print(X)\n"
   ]
  },
  {
   "cell_type": "code",
   "execution_count": 125,
   "metadata": {
    "collapsed": true
   },
   "outputs": [],
   "source": [
    "# https://towardsdatascience.com/the-art-of-effective-visualization-of-multi-dimensional-data-6c7202990c57\n",
    "# https://jakevdp.github.io/PythonDataScienceHandbook/04.12-three-dimensional-plotting.html\n",
    "# https://jakevdp.github.io/PythonDataScienceHandbook/04.02-simple-scatter-plots.html"
   ]
  },
  {
   "cell_type": "code",
   "execution_count": 126,
   "metadata": {
    "collapsed": false
   },
   "outputs": [
    {
     "name": "stdout",
     "output_type": "stream",
     "text": [
      "[[ 0.]\n",
      " [ 0.]]\n"
     ]
    }
   ],
   "source": [
    "# Gradient Descent\n",
    "\n",
    "theta = np.zeros(2).reshape(2,1) # initialize fitting params\n",
    "print(theta)\n",
    "iterations = 1500\n",
    "alpha = 0.01"
   ]
  },
  {
   "cell_type": "code",
   "execution_count": null,
   "metadata": {
    "collapsed": true
   },
   "outputs": [],
   "source": []
  }
 ],
 "metadata": {
  "kernelspec": {
   "display_name": "Python 3",
   "language": "python",
   "name": "python3"
  },
  "language_info": {
   "codemirror_mode": {
    "name": "ipython",
    "version": 3
   },
   "file_extension": ".py",
   "mimetype": "text/x-python",
   "name": "python",
   "nbconvert_exporter": "python",
   "pygments_lexer": "ipython3",
   "version": "3.5.1"
  }
 },
 "nbformat": 4,
 "nbformat_minor": 0
}
